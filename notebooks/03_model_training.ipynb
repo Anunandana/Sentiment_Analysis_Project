{
 "cells": [
  {
   "cell_type": "code",
   "execution_count": 2,
   "id": "21335357-566e-41f2-8f7e-9a2fc82339cd",
   "metadata": {},
   "outputs": [
    {
     "name": "stdout",
     "output_type": "stream",
     "text": [
      "📊 Loaded 50000 processed reviews\n"
     ]
    }
   ],
   "source": [
    "import pandas as pd\n",
    "import numpy as np\n",
    "from sklearn.feature_extraction.text import TfidfVectorizer,CountVectorizer\n",
    "from sklearn.model_selection import train_test_split, cross_val_score\n",
    "from sklearn.linear_model import LogisticRegression\n",
    "from sklearn.naive_bayes import MultinomialNB\n",
    "from sklearn.svm import SVC\n",
    "from sklearn.ensemble import RandomForestClassifier\n",
    "from sklearn.metrics import accuracy_score, classification_report, confusion_matrix\n",
    "import matplotlib.pyplot as plt\n",
    "import seaborn as sns\n",
    "import joblib\n",
    "# Load processed data\n",
    "df = pd.read_csv('../data/processed/processed_reviews.csv')\n",
    "print(f\"📊 Loaded {len(df)} processed reviews\")"
   ]
  },
  {
   "cell_type": "code",
   "execution_count": 3,
   "id": "886c432f-c62f-4279-8c06-f096afbbc23a",
   "metadata": {},
   "outputs": [
    {
     "name": "stdout",
     "output_type": "stream",
     "text": [
      "📈 Training set size: 40000\n",
      "📈 Test set size: 10000\n",
      "\n",
      "🔄 Creating TF-IDF features...\n",
      "✅ Feature matrix shape: (40000, 5000)\n",
      "📝 Feature names sample: ['abandoned' 'abc' 'ability' 'able' 'absence' 'absolute' 'absolutely'\n",
      " 'absolutely nothing' 'absurd' 'abuse']\n"
     ]
    }
   ],
   "source": [
    "# Prepare features and labels\n",
    "X = df['processed_review']\n",
    "y = df['sentiment']\n",
    "# Split the data\n",
    "X_train, X_test, y_train, y_test = train_test_split(X, y, test_size=0.2, random_state=42, stratify=y)\n",
    "print(f\"📈 Training set size: {len(X_train)}\")\n",
    "print(f\"📈 Test set size: {len(X_test)}\")\n",
    "# Feature extraction with TF-IDF\n",
    "print(\"\\n🔄 Creating TF-IDF features...\")\n",
    "tfidf = TfidfVectorizer(max_features=5000, ngram_range=(1, 2), min_df=2, max_df=0.95)\n",
    "X_train_tfidf = tfidf.fit_transform(X_train)\n",
    "X_test_tfidf = tfidf.transform(X_test)\n",
    "print(f\"✅ Feature matrix shape: {X_train_tfidf.shape}\")\n",
    "print(f\"📝 Feature names sample: {tfidf.get_feature_names_out()[:10]}\")"
   ]
  },
  {
   "cell_type": "code",
   "execution_count": 4,
   "id": "5cdd957b-2d98-443e-b2f6-e5ba7f28b141",
   "metadata": {},
   "outputs": [
    {
     "name": "stdout",
     "output_type": "stream",
     "text": [
      "\n",
      "🔄 Training Logistic Regression...\n",
      "✅ Logistic Regression - CV: 0.8847 (±0.0038), Test: 0.8898\n",
      "\n",
      "🔄 Training Naive Bayes...\n",
      "✅ Naive Bayes - CV: 0.8562 (±0.0038), Test: 0.8584\n",
      "\n",
      "🔄 Training Random Forest...\n",
      "✅ Random Forest - CV: 0.8445 (±0.0054), Test: 0.8530\n"
     ]
    },
    {
     "data": {
      "text/html": [
       "<div>\n",
       "<style scoped>\n",
       "    .dataframe tbody tr th:only-of-type {\n",
       "        vertical-align: middle;\n",
       "    }\n",
       "\n",
       "    .dataframe tbody tr th {\n",
       "        vertical-align: top;\n",
       "    }\n",
       "\n",
       "    .dataframe thead th {\n",
       "        text-align: right;\n",
       "    }\n",
       "</style>\n",
       "<table border=\"1\" class=\"dataframe\">\n",
       "  <thead>\n",
       "    <tr style=\"text-align: right;\">\n",
       "      <th></th>\n",
       "      <th>CV Mean</th>\n",
       "      <th>CV Std</th>\n",
       "      <th>Test Accuracy</th>\n",
       "    </tr>\n",
       "  </thead>\n",
       "  <tbody>\n",
       "    <tr>\n",
       "      <th>Logistic Regression</th>\n",
       "      <td>0.884700</td>\n",
       "      <td>0.003793</td>\n",
       "      <td>0.8898</td>\n",
       "    </tr>\n",
       "    <tr>\n",
       "      <th>Naive Bayes</th>\n",
       "      <td>0.856250</td>\n",
       "      <td>0.003833</td>\n",
       "      <td>0.8584</td>\n",
       "    </tr>\n",
       "    <tr>\n",
       "      <th>Random Forest</th>\n",
       "      <td>0.844525</td>\n",
       "      <td>0.005413</td>\n",
       "      <td>0.8530</td>\n",
       "    </tr>\n",
       "  </tbody>\n",
       "</table>\n",
       "</div>"
      ],
      "text/plain": [
       "                      CV Mean    CV Std  Test Accuracy\n",
       "Logistic Regression  0.884700  0.003793         0.8898\n",
       "Naive Bayes          0.856250  0.003833         0.8584\n",
       "Random Forest        0.844525  0.005413         0.8530"
      ]
     },
     "metadata": {},
     "output_type": "display_data"
    }
   ],
   "source": [
    "# Define models to compare\n",
    "models = {\n",
    "    'Logistic Regression': LogisticRegression(random_state=42, max_iter=1000),\n",
    "    'Naive Bayes': MultinomialNB(),\n",
    "    'Random Forest': RandomForestClassifier(n_estimators=100, random_state=42),\n",
    "    #'SVM': SVC(kernel='linear', random_state=42, probability=True)\n",
    "}\n",
    "\n",
    "# Train and evaluate models\n",
    "results = {}\n",
    "trained_models = {}\n",
    "\n",
    "for name, model in models.items():\n",
    "    print(f\"\\n🔄 Training {name}...\")\n",
    "    \n",
    "    # Train model\n",
    "    model.fit(X_train_tfidf, y_train)\n",
    "    trained_models[name] = model\n",
    "\n",
    "    # Cross-validation score\n",
    "    cv_scores = cross_val_score(model, X_train_tfidf, y_train, cv=5, scoring='accuracy')\n",
    "\n",
    "    # Test accuracy\n",
    "    y_pred = model.predict(X_test_tfidf)\n",
    "    test_accuracy = accuracy_score(y_test, y_pred)\n",
    "\n",
    "    results[name] = {\n",
    "        'CV Mean': cv_scores.mean(),\n",
    "        'CV Std': cv_scores.std(),\n",
    "        'Test Accuracy': test_accuracy\n",
    "    }\n",
    "\n",
    "    print(f\"✅ {name} - CV: {cv_scores.mean():.4f} (±{cv_scores.std():.4f}), Test: {test_accuracy:.4f}\")\n",
    "\n",
    "# Display results\n",
    "results_df = pd.DataFrame(results).T\n",
    "display(results_df)\n"
   ]
  },
  {
   "cell_type": "code",
   "execution_count": 6,
   "id": "ae8fb889-1b10-472f-9e25-c08c641e743f",
   "metadata": {},
   "outputs": [
    {
     "name": "stdout",
     "output_type": "stream",
     "text": [
      "🏆 Best Model: Logistic Regression\n",
      "🎯 Test Accuracy: 0.8898\n",
      "\n",
      "📊 Detailed Classification Report:\n",
      "              precision    recall  f1-score   support\n",
      "\n",
      "    negative       0.90      0.88      0.89      5000\n",
      "    positive       0.88      0.90      0.89      5000\n",
      "\n",
      "    accuracy                           0.89     10000\n",
      "   macro avg       0.89      0.89      0.89     10000\n",
      "weighted avg       0.89      0.89      0.89     10000\n",
      "\n"
     ]
    },
    {
     "data": {
      "image/png": "[encoded data removed]",
      "text/plain": [
       "<Figure size 800x600 with 2 Axes>"
      ]
     },
     "metadata": {},
     "output_type": "display_data"
    },
    {
     "name": "stdout",
     "output_type": "stream",
     "text": [
      "\n",
      "📈 Top 10 Positive Sentiment Features:\n",
      "excellent: 6.8415\n",
      "great: 6.3065\n",
      "perfect: 5.6192\n",
      "amazing: 5.0614\n",
      "hilarious: 4.6593\n",
      "wonderful: 4.6549\n",
      "loved: 4.3779\n",
      "favorite: 4.2248\n",
      "one best: 4.0964\n",
      "brilliant: 4.0914\n",
      "\n",
      "📉 Top 10 Negative Sentiment Features:\n",
      "worst: -9.3654\n",
      "awful: -7.8245\n",
      "waste: -7.0731\n",
      "bad: -6.8455\n",
      "boring: -6.3444\n",
      "poor: -5.7727\n",
      "terrible: -5.5652\n",
      "dull: -5.3368\n",
      "poorly: -5.2678\n",
      "worse: -5.1596\n"
     ]
    }
   ],
   "source": [
    "# Select best model (highest test accuracy)\n",
    "best_model_name = results_df['Test Accuracy'].idxmax()\n",
    "best_model = trained_models[best_model_name]\n",
    "print(f\"🏆 Best Model: {best_model_name}\")\n",
    "print(f\"🎯 Test Accuracy: {results_df.loc[best_model_name, 'Test Accuracy']:.4f}\")\n",
    "# Detailed evaluation\n",
    "y_pred = best_model.predict(X_test_tfidf)\n",
    "y_pred_proba = best_model.predict_proba(X_test_tfidf)\n",
    "print(f\"\\n📊 Detailed Classification Report:\")\n",
    "print(classification_report(y_test, y_pred))\n",
    "# Confusion Matrix\n",
    "cm = confusion_matrix(y_test, y_pred)\n",
    "plt.figure(figsize=(8, 6))\n",
    "sns.heatmap(cm, annot=True, fmt='d', cmap='Blues',\n",
    "            xticklabels=['Negative', 'Positive'],\n",
    "            yticklabels=['Negative', 'Positive'])\n",
    "plt.title(f'Confusion Matrix - {best_model_name}')\n",
    "plt.xlabel('Predicted')\n",
    "plt.ylabel('Actual')\n",
    "plt.show()\n",
    "\n",
    "\n",
    "# Feature importance (for Logistic Regression)\n",
    "if best_model_name == 'Logistic Regression':\n",
    "    feature_names = tfidf.get_feature_names_out()\n",
    "    coefficients = best_model.coef_[0]\n",
    "    # Top positive features\n",
    "    top_positive = np.argsort(coefficients)[-10:]\n",
    "    # Top negative features\n",
    "    top_negative = np.argsort(coefficients)[:10]\n",
    "\n",
    "    print(\"\\n📈 Top 10 Positive Sentiment Features:\")\n",
    "    for i in reversed(top_positive):\n",
    "        print(f\"{feature_names[i]}: {coefficients[i]:.4f}\")\n",
    "    print(\"\\n📉 Top 10 Negative Sentiment Features:\")\n",
    "    for i in top_negative:\n",
    "        print(f\"{feature_names[i]}: {coefficients[i]:.4f}\")"
   ]
  },
  {
   "cell_type": "code",
   "execution_count": 10,
   "id": "3180fc2c-5160-4e2d-be7b-3d1a2428790c",
   "metadata": {},
   "outputs": [
    {
     "name": "stdout",
     "output_type": "stream",
     "text": [
      "💾 Model saved: ../models/best_sentiment_model_logistic_regression.pkl\n",
      "💾 Vectorizer saved: ../models/tfidf_vectorizer.pkl\n",
      "📋 Model information saved to ../models/model_info.json\n"
     ]
    }
   ],
   "source": [
    "#Save the best model and vectorizer\n",
    "joblib.dump(best_model,\n",
    "f'../models/best_sentiment_model_{best_model_name.lower().replace(\" \", \"_\")}.pkl')\n",
    "joblib.dump(tfidf, '../models/tfidf_vectorizer.pkl')\n",
    "print(f\"💾 Model saved: ../models/best_sentiment_model_{best_model_name.lower().replace(' ', '_')}.pkl\")\n",
    "print(f\"💾 Vectorizer saved: ../models/tfidf_vectorizer.pkl\")\n",
    "# Create model info\n",
    "model_info = {\n",
    "'model_type': best_model_name,\n",
    "'test_accuracy': results_df.loc[best_model_name, 'Test Accuracy'],\n",
    "'cv_mean': results_df.loc[best_model_name, 'CV Mean'],\n",
    "'cv_std': results_df.loc[best_model_name, 'CV Std'],\n",
    "'features': X_train_tfidf.shape[1]\n",
    "}\n",
    "# Save model info\n",
    "import json\n",
    "with open('../models/model_info.json', 'w') as f:\n",
    "    json.dump(model_info, f, indent=2)\n",
    "print(\"📋 Model information saved to ../models/model_info.json\")\n"
   ]
  },
  {
   "cell_type": "code",
   "execution_count": null,
   "id": "ea6eafb4-b94e-4427-b346-854b2b3d1a3f",
   "metadata": {},
   "outputs": [],
   "source": []
  }
 ],
 "metadata": {
  "kernelspec": {
   "display_name": "Python 3 (ipykernel)",
   "language": "python",
   "name": "python3"
  },
  "language_info": {
   "codemirror_mode": {
    "name": "ipython",
    "version": 3
   },
   "file_extension": ".py",
   "mimetype": "text/x-python",
   "name": "python",
   "nbconvert_exporter": "python",
   "pygments_lexer": "ipython3",
   "version": "3.10.12"
  }
 },
 "nbformat": 4,
 "nbformat_minor": 5
}
